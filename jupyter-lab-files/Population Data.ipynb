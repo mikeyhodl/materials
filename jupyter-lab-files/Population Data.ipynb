{
 "cells": [
  {
   "cell_type": "markdown",
   "id": "8a9df91c-eadc-47f9-bce7-948e38136b07",
   "metadata": {},
   "source": [
    "### Changes in World Population Since 1960\r\n",
    "\r\n",
    "The data shown below shows how the\r\n",
    "[world's population](https://www.worldometers.info/world-population/world-population-by-year/)\r\n",
    "has more than doubled since 1960.\r\n",
    "\r\n",
    "This has [implications](https://ugc.berkeley.edu/background-content/population-growth/)\r\n",
    "in a variety of areas including:\r\n",
    "\r\n",
    "* Increased extraction of environmental resources.\r\n",
    "* Increased fossil fuel usage.\r\n",
    "* Increased disease transmission.\r\n",
    "* Increased transportation of invasive species.\r\n",
    "\r\n",
    "**The data below shows the population each decade since 1960:**"
   ]
  },
  {
   "cell_type": "code",
   "execution_count": null,
   "id": "50d0f480-a0fd-4586-8a22-03949a2518f0",
   "metadata": {},
   "outputs": [],
   "source": [
    "# decades = [1960, 1970, 1980, 1990, 2000, 2010, 2020]\n",
    "\n",
    "# World population(billions)\n",
    "# population = [3, 3.7, 4.4, 5.3, 6.1, 7.0, 7.8]\n",
    "\n",
    "decades = [1980, 1990, 2000, 2010, 2020]\n",
    "population = [4.4, 5.3, 6.1, 7.0, 7.8]"
   ]
  },
  {
   "cell_type": "code",
   "execution_count": null,
   "id": "0d399a86-4d1b-48fb-928d-f2860621c90b",
   "metadata": {},
   "outputs": [],
   "source": [
    "from matplotlib import pyplot as plt\n",
    "\n",
    "plt.plot(decades, population)\n",
    "\n",
    "plt.xlabel(\"Year\")\n",
    "plt.ylabel(\"Population (Billion)\")\n",
    "plt.title(\"World Population\")\n",
    "\n",
    "plt.show()"
   ]
  }
 ],
 "metadata": {
  "kernelspec": {
   "display_name": "Python 3 (ipykernel)",
   "language": "python",
   "name": "python3"
  },
  "language_info": {
   "codemirror_mode": {
    "name": "ipython",
    "version": 3
   },
   "file_extension": ".py",
   "mimetype": "text/x-python",
   "name": "python",
   "nbconvert_exporter": "python",
   "pygments_lexer": "ipython3",
   "version": "3.11.0"
  }
 },
 "nbformat": 4,
 "nbformat_minor": 5
}
